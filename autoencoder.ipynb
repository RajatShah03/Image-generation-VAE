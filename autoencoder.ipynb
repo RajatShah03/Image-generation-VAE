{
 "cells": [
  {
   "cell_type": "code",
   "execution_count": null,
   "id": "0835d87b",
   "metadata": {},
   "outputs": [],
   "source": [
    "import numpy as np\n",
    "import matplotlib.pyplot as plt\n",
    "import tensorflow as tf\n",
    "from tensorflow import keras\n",
    "\n",
    "import utils"
   ]
  },
  {
   "cell_type": "code",
   "execution_count": null,
   "id": "04c953db",
   "metadata": {},
   "outputs": [],
   "source": [
    "# Load MNIST Fashion dataset\n",
    "(x_train, _), (x_test, _) = keras.datasets.fashion_mnist.load_data()\n",
    "\n",
    "x_train = utils.preprocess(x_train)\n",
    "x_test = utils.preprocess(x_test)\n",
    "\n",
    "x_train.shape, x_test.shape"
   ]
  },
  {
   "cell_type": "code",
   "execution_count": null,
   "id": "25e9c2d2",
   "metadata": {},
   "outputs": [],
   "source": [
    "# Autoencoder model definition\n",
    "class Autoencoder(keras.models.Model):\n",
    "    def __init__(self, latent_dims, input_shape):\n",
    "        super(Autoencoder, self).__init__()\n",
    "        \n",
    "        self.latent_dims = latent_dims\n",
    "        self.image_shape = input_shape\n",
    "        \n",
    "        # Encoder model\n",
    "        self.encoder = keras.Sequential([\n",
    "            keras.layers.Flatten(),\n",
    "            keras.layers.Dense(512, activation='relu'),\n",
    "            keras.layers.Dense(self.latent_dims, activation='relu')\n",
    "        ])\n",
    "        \n",
    "        # Decoder model\n",
    "        self.decoder = keras.Sequential([\n",
    "            keras.layers.Dense(\n",
    "                np.prod(np.array(self.image_shape), axis=0, dtype=np.uint32), \n",
    "                activation=\"sigmoid\"\n",
    "            ),\n",
    "            keras.layers.Reshape(self.image_shape)\n",
    "        ])\n",
    "    \n",
    "    def call(self, x):\n",
    "        # Encode input\n",
    "        encoded = self.encoder(x)\n",
    "        \n",
    "        # Decode input\n",
    "        decoded = self.decoder(encoded)\n",
    "        \n",
    "        return decoded"
   ]
  },
  {
   "cell_type": "code",
   "execution_count": null,
   "id": "4afbd3ee",
   "metadata": {},
   "outputs": [],
   "source": [
    "# Constants definition\n",
    "LATENT_DIMS = 64\n",
    "INPUT_SHAPE = x_train.shape[1:]\n",
    "EPOCHS = 10"
   ]
  },
  {
   "cell_type": "code",
   "execution_count": null,
   "id": "a5299737",
   "metadata": {},
   "outputs": [],
   "source": [
    "# Initialize Autoencoder model\n",
    "autoencoder = Autoencoder(latent_dims=LATENT_DIMS, input_shape=INPUT_SHAPE)\n",
    "\n",
    "# Compile model\n",
    "autoencoder.compile(\n",
    "    optimizer='adam',\n",
    "    loss='mse'\n",
    ")\n",
    "\n",
    "# Train model\n",
    "history = autoencoder.fit(\n",
    "    x_train,\n",
    "    x_train,\n",
    "    epochs=EPOCHS,\n",
    "    shuffle=True,\n",
    "    validation_data=(x_test, x_test)\n",
    ").history"
   ]
  },
  {
   "cell_type": "code",
   "execution_count": null,
   "id": "2866cc44",
   "metadata": {},
   "outputs": [],
   "source": [
    "# Plot loss curve\n",
    "utils.plot_loss(history)"
   ]
  },
  {
   "cell_type": "code",
   "execution_count": null,
   "id": "ad576f71",
   "metadata": {},
   "outputs": [],
   "source": [
    "# Generate images on test set\n",
    "encoded_images = autoencoder.encoder(x_test).numpy()\n",
    "decoded_images = autoencoder.decoder(encoded_images).numpy()\n",
    "\n",
    "decoded_images.shape"
   ]
  },
  {
   "cell_type": "code",
   "execution_count": null,
   "id": "21627a5a",
   "metadata": {},
   "outputs": [],
   "source": [
    "# Plot the results\n",
    "n = 10\n",
    "\n",
    "plt.figure(figsize=(16, 4), dpi=200)\n",
    "\n",
    "for i in range(n):\n",
    "    # Plot original images in row 1\n",
    "    ax = plt.subplot(2, n, i + 1)\n",
    "    plt.imshow(x_test[i], cmap='gray')\n",
    "    plt.title('original')\n",
    "    plt.axis('off')\n",
    "    \n",
    "    # Plot generated images in row 2\n",
    "    ax = plt.subplot(2, n, i + 1 + n)\n",
    "    plt.imshow(decoded_images[i])\n",
    "    plt.title('generated')\n",
    "    plt.axis('off')"
   ]
  },
  {
   "cell_type": "code",
   "execution_count": null,
   "id": "42c5be62",
   "metadata": {},
   "outputs": [],
   "source": []
  }
 ],
 "metadata": {
  "kernelspec": {
   "display_name": "Python 3 (ipykernel)",
   "language": "python",
   "name": "python3"
  },
  "language_info": {
   "codemirror_mode": {
    "name": "ipython",
    "version": 3
   },
   "file_extension": ".py",
   "mimetype": "text/x-python",
   "name": "python",
   "nbconvert_exporter": "python",
   "pygments_lexer": "ipython3",
   "version": "3.10.5"
  }
 },
 "nbformat": 4,
 "nbformat_minor": 5
}
